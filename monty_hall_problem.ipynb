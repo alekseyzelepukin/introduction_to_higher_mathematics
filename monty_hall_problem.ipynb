{
 "cells": [
  {
   "cell_type": "markdown",
   "metadata": {},
   "source": [
    "* автомобиль равновероятно размещён за любой из трёх дверей;\n",
    "* ведущий знает, где находится автомобиль;\n",
    "* ведущий в любом случае обязан открыть дверь с козой (но не ту, которую выбрал игрок) и предложить игроку изменить выбор;\n",
    "* если у ведущего есть выбор, какую из двух дверей открыть, он выбирает любую из них с одинаковой вероятностью."
   ]
  },
  {
   "cell_type": "code",
   "execution_count": 1,
   "metadata": {
    "ExecuteTime": {
     "end_time": "2019-03-20T17:41:07.775896Z",
     "start_time": "2019-03-20T17:41:07.198735Z"
    }
   },
   "outputs": [],
   "source": [
    "import numpy as np"
   ]
  },
  {
   "cell_type": "code",
   "execution_count": null,
   "metadata": {
    "ExecuteTime": {
     "start_time": "2019-03-20T19:29:30.579Z"
    }
   },
   "outputs": [],
   "source": [
    "# Стратегия 1: никогда не меняем выбранную дверь\n",
    "# Стратегия 2: всегда не меняем выбранную дверь\n",
    "# Стратегия 3: подбрасываем монеттку (50.50)\n",
    "\n",
    "n = 100000\n",
    "k1 = 0\n",
    "k2 = 0\n",
    "k3 = 0\n",
    "\n",
    "for _ in range(n):\n",
    "    doors = np.array([1, 0, 0])\n",
    "    np.random.shuffle(doors)\n",
    "    win = list(doors).index(1)\n",
    "    choice = np.random.randint(0, 3)\n",
    "\n",
    "    if doors[choice] == 1:\n",
    "        doors = np.delete(doors, np.random.choice(np.delete(np.array([0, 1, 2]), win)))\n",
    "        k1 += 1\n",
    "    else:\n",
    "        doors = np.delete(doors, np.delete(np.array([0, 1, 2]), [win, choice]))\n",
    "        k2 += 1\n",
    "        k3 += np.random.choice([0, 1])\n",
    "\n",
    "print('Вероятность успеха:')\n",
    "print(f'Cтратегия 1: {k1 / n}')\n",
    "print(f'Стратегия 2: {k2 / n}')\n",
    "print(f'Стратегия 3: {k3 / n}')"
   ]
  },
  {
   "cell_type": "code",
   "execution_count": null,
   "metadata": {},
   "outputs": [],
   "source": []
  }
 ],
 "metadata": {
  "kernelspec": {
   "display_name": "Python 3",
   "language": "python",
   "name": "python3"
  },
  "language_info": {
   "codemirror_mode": {
    "name": "ipython",
    "version": 3
   },
   "file_extension": ".py",
   "mimetype": "text/x-python",
   "name": "python",
   "nbconvert_exporter": "python",
   "pygments_lexer": "ipython3",
   "version": "3.7.1"
  }
 },
 "nbformat": 4,
 "nbformat_minor": 2
}

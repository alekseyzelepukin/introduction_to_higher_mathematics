{
 "cells": [
  {
   "cell_type": "markdown",
   "metadata": {
    "ExecuteTime": {
     "end_time": "2019-03-17T11:49:52.231234Z",
     "start_time": "2019-03-17T11:49:52.226284Z"
    }
   },
   "source": [
    "#### 5.1.\n",
    "1. Вектор – это частный случай матрицы 1хN и Nх1. Повторите материал для векторов, уделяя особое внимание умножению A∙B."
   ]
  },
  {
   "cell_type": "code",
   "execution_count": 1,
   "metadata": {
    "ExecuteTime": {
     "end_time": "2019-03-25T17:22:48.145830Z",
     "start_time": "2019-03-25T17:22:47.815715Z"
    }
   },
   "outputs": [],
   "source": [
    "import numpy as np"
   ]
  },
  {
   "cell_type": "code",
   "execution_count": 2,
   "metadata": {
    "ExecuteTime": {
     "end_time": "2019-03-25T17:22:48.160223Z",
     "start_time": "2019-03-25T17:22:48.149821Z"
    }
   },
   "outputs": [],
   "source": [
    "m = np.array([1, 2, 3], float)\n",
    "n = np.array([4, 5, 6], float)"
   ]
  },
  {
   "cell_type": "code",
   "execution_count": 3,
   "metadata": {
    "ExecuteTime": {
     "end_time": "2019-03-25T17:22:48.180169Z",
     "start_time": "2019-03-25T17:22:48.162218Z"
    }
   },
   "outputs": [
    {
     "name": "stdout",
     "output_type": "stream",
     "text": [
      "m = [1. 2. 3.]\n",
      "n = [4. 5. 6.]\n"
     ]
    }
   ],
   "source": [
    "print(f'm = {m}')\n",
    "print(f'n = {n}')"
   ]
  },
  {
   "cell_type": "code",
   "execution_count": 4,
   "metadata": {
    "ExecuteTime": {
     "end_time": "2019-03-25T17:22:48.206100Z",
     "start_time": "2019-03-25T17:22:48.184159Z"
    }
   },
   "outputs": [
    {
     "name": "stdout",
     "output_type": "stream",
     "text": [
      "32.0\n",
      "32.0\n"
     ]
    }
   ],
   "source": [
    "# скалярное произведение\n",
    "print(np.dot(m, n))\n",
    "print(np.inner(m, n))"
   ]
  },
  {
   "cell_type": "code",
   "execution_count": 5,
   "metadata": {
    "ExecuteTime": {
     "end_time": "2019-03-25T17:22:48.220064Z",
     "start_time": "2019-03-25T17:22:48.214078Z"
    }
   },
   "outputs": [
    {
     "name": "stdout",
     "output_type": "stream",
     "text": [
      "[-3.  6. -3.]\n"
     ]
    }
   ],
   "source": [
    "# векторное произведение\n",
    "print(np.cross(m, n))"
   ]
  },
  {
   "cell_type": "code",
   "execution_count": 6,
   "metadata": {
    "ExecuteTime": {
     "end_time": "2019-03-25T17:22:48.232030Z",
     "start_time": "2019-03-25T17:22:48.222057Z"
    }
   },
   "outputs": [
    {
     "name": "stdout",
     "output_type": "stream",
     "text": [
      "0.0\n"
     ]
    }
   ],
   "source": [
    "# смешанное произведение\n",
    "print(np.dot(m, np.cross(m, n)))"
   ]
  },
  {
   "cell_type": "markdown",
   "metadata": {},
   "source": [
    "2. Вычислите, по возможности не используя программирование: (5Е)-1, где Е – единичная матрица размера 5х5."
   ]
  },
  {
   "cell_type": "code",
   "execution_count": 7,
   "metadata": {
    "ExecuteTime": {
     "end_time": "2019-03-25T17:22:48.244997Z",
     "start_time": "2019-03-25T17:22:48.234025Z"
    }
   },
   "outputs": [],
   "source": [
    "E = np.dot(1, np.identity(5))"
   ]
  },
  {
   "cell_type": "code",
   "execution_count": 8,
   "metadata": {
    "ExecuteTime": {
     "end_time": "2019-03-25T17:22:48.262948Z",
     "start_time": "2019-03-25T17:22:48.250979Z"
    }
   },
   "outputs": [
    {
     "name": "stdout",
     "output_type": "stream",
     "text": [
      "[[1. 0. 0. 0. 0.]\n",
      " [0. 1. 0. 0. 0.]\n",
      " [0. 0. 1. 0. 0.]\n",
      " [0. 0. 0. 1. 0.]\n",
      " [0. 0. 0. 0. 1.]]\n"
     ]
    }
   ],
   "source": [
    "print(E)"
   ]
  },
  {
   "cell_type": "code",
   "execution_count": 9,
   "metadata": {
    "ExecuteTime": {
     "end_time": "2019-03-25T17:22:48.276911Z",
     "start_time": "2019-03-25T17:22:48.264943Z"
    }
   },
   "outputs": [],
   "source": [
    "A = np.dot(5, E)"
   ]
  },
  {
   "cell_type": "code",
   "execution_count": 10,
   "metadata": {
    "ExecuteTime": {
     "end_time": "2019-03-25T17:22:48.288879Z",
     "start_time": "2019-03-25T17:22:48.277907Z"
    }
   },
   "outputs": [
    {
     "name": "stdout",
     "output_type": "stream",
     "text": [
      "[[5. 0. 0. 0. 0.]\n",
      " [0. 5. 0. 0. 0.]\n",
      " [0. 0. 5. 0. 0.]\n",
      " [0. 0. 0. 5. 0.]\n",
      " [0. 0. 0. 0. 5.]]\n"
     ]
    }
   ],
   "source": [
    "print(A)"
   ]
  },
  {
   "cell_type": "code",
   "execution_count": 11,
   "metadata": {
    "ExecuteTime": {
     "end_time": "2019-03-25T17:22:48.306830Z",
     "start_time": "2019-03-25T17:22:48.290873Z"
    }
   },
   "outputs": [],
   "source": [
    "A_inv = np.linalg.inv(A)"
   ]
  },
  {
   "cell_type": "code",
   "execution_count": 12,
   "metadata": {
    "ExecuteTime": {
     "end_time": "2019-03-25T17:22:48.318798Z",
     "start_time": "2019-03-25T17:22:48.307828Z"
    }
   },
   "outputs": [
    {
     "name": "stdout",
     "output_type": "stream",
     "text": [
      "[[ 0.2  0.   0.   0.   0. ]\n",
      " [ 0.   0.2  0.   0.   0. ]\n",
      " [ 0.   0.   0.2  0.   0. ]\n",
      " [-0.  -0.  -0.   0.2 -0. ]\n",
      " [ 0.   0.   0.   0.   0.2]]\n"
     ]
    }
   ],
   "source": [
    "print(A_inv)"
   ]
  },
  {
   "cell_type": "code",
   "execution_count": 13,
   "metadata": {
    "ExecuteTime": {
     "end_time": "2019-03-25T17:22:48.356697Z",
     "start_time": "2019-03-25T17:22:48.319796Z"
    }
   },
   "outputs": [
    {
     "name": "stdout",
     "output_type": "stream",
     "text": [
      "[[1. 0. 0. 0. 0.]\n",
      " [0. 1. 0. 0. 0.]\n",
      " [0. 0. 1. 0. 0.]\n",
      " [0. 0. 0. 1. 0.]\n",
      " [0. 0. 0. 0. 1.]]\n"
     ]
    }
   ],
   "source": [
    "# проверка:\n",
    "print(np.round(np.dot(A, A_inv), 0))"
   ]
  },
  {
   "cell_type": "markdown",
   "metadata": {},
   "source": [
    "#### 5.2.\n",
    "Вычислите определитель:\n",
    "\\begin{equation*}\n",
    "\\begin{vmatrix}\n",
    "\\mathbf{1} & \\mathbf{2} & \\mathbf{3} \\\\\n",
    "\\mathbf{4} & \\mathbf{0} & \\mathbf{6} \\\\\n",
    "\\mathbf{7} & \\mathbf{8} & \\mathbf{9}\n",
    "\\end{vmatrix}\n",
    "\\end{equation*}"
   ]
  },
  {
   "cell_type": "code",
   "execution_count": 14,
   "metadata": {
    "ExecuteTime": {
     "end_time": "2019-03-25T17:22:48.366671Z",
     "start_time": "2019-03-25T17:22:48.359689Z"
    }
   },
   "outputs": [],
   "source": [
    "M = np.array([[1, 2, 3], [4, 0, 6], [7, 8, 9]], float)"
   ]
  },
  {
   "cell_type": "code",
   "execution_count": 15,
   "metadata": {
    "ExecuteTime": {
     "end_time": "2019-03-25T17:22:48.379636Z",
     "start_time": "2019-03-25T17:22:48.368665Z"
    }
   },
   "outputs": [
    {
     "name": "stdout",
     "output_type": "stream",
     "text": [
      "[[1. 2. 3.]\n",
      " [4. 0. 6.]\n",
      " [7. 8. 9.]]\n"
     ]
    }
   ],
   "source": [
    "print(M)"
   ]
  },
  {
   "cell_type": "code",
   "execution_count": 16,
   "metadata": {
    "ExecuteTime": {
     "end_time": "2019-03-25T17:22:48.392602Z",
     "start_time": "2019-03-25T17:22:48.381630Z"
    }
   },
   "outputs": [],
   "source": [
    "det_M = np.linalg.det(M)"
   ]
  },
  {
   "cell_type": "code",
   "execution_count": 17,
   "metadata": {
    "ExecuteTime": {
     "end_time": "2019-03-25T17:22:48.407561Z",
     "start_time": "2019-03-25T17:22:48.395594Z"
    }
   },
   "outputs": [
    {
     "name": "stdout",
     "output_type": "stream",
     "text": [
      "60.0\n"
     ]
    }
   ],
   "source": [
    "print(np.round(det_M, 0))"
   ]
  },
  {
   "cell_type": "markdown",
   "metadata": {},
   "source": [
    "#### 5.3.\n",
    "1. Вычислите матрицу, обратную данной:\n",
    "\\begin{equation*}\n",
    "\\begin{vmatrix}\n",
    "\\mathbf{1} & \\mathbf{2} & \\mathbf{3} \\\\\n",
    "\\mathbf{4} & \\mathbf{0} & \\mathbf{6} \\\\\n",
    "\\mathbf{7} & \\mathbf{8} & \\mathbf{9}\n",
    "\\end{vmatrix}\n",
    "\\end{equation*}"
   ]
  },
  {
   "cell_type": "code",
   "execution_count": 18,
   "metadata": {
    "ExecuteTime": {
     "end_time": "2019-03-25T17:22:48.421524Z",
     "start_time": "2019-03-25T17:22:48.415539Z"
    }
   },
   "outputs": [],
   "source": [
    "G = np.array([[1, 2, 3], [4, 0, 6], [7, 8, 9]], float)"
   ]
  },
  {
   "cell_type": "code",
   "execution_count": 19,
   "metadata": {
    "ExecuteTime": {
     "end_time": "2019-03-25T17:22:48.445460Z",
     "start_time": "2019-03-25T17:22:48.424516Z"
    }
   },
   "outputs": [
    {
     "name": "stdout",
     "output_type": "stream",
     "text": [
      "[[1. 2. 3.]\n",
      " [4. 0. 6.]\n",
      " [7. 8. 9.]]\n"
     ]
    }
   ],
   "source": [
    "print(G)"
   ]
  },
  {
   "cell_type": "code",
   "execution_count": 20,
   "metadata": {
    "ExecuteTime": {
     "end_time": "2019-03-25T17:22:48.457428Z",
     "start_time": "2019-03-25T17:22:48.447454Z"
    }
   },
   "outputs": [],
   "source": [
    "G_inv = np.linalg.inv(G)"
   ]
  },
  {
   "cell_type": "code",
   "execution_count": 21,
   "metadata": {
    "ExecuteTime": {
     "end_time": "2019-03-25T17:22:48.470393Z",
     "start_time": "2019-03-25T17:22:48.459423Z"
    }
   },
   "outputs": [
    {
     "name": "stdout",
     "output_type": "stream",
     "text": [
      "[[-0.8         0.1         0.2       ]\n",
      " [ 0.1        -0.2         0.1       ]\n",
      " [ 0.53333333  0.1        -0.13333333]]\n"
     ]
    }
   ],
   "source": [
    "print(G_inv)"
   ]
  },
  {
   "cell_type": "code",
   "execution_count": 22,
   "metadata": {
    "ExecuteTime": {
     "end_time": "2019-03-25T17:22:48.483359Z",
     "start_time": "2019-03-25T17:22:48.471391Z"
    }
   },
   "outputs": [
    {
     "name": "stdout",
     "output_type": "stream",
     "text": [
      "[[ 1. -0.  0.]\n",
      " [ 0.  1.  0.]\n",
      " [ 0.  0.  1.]]\n"
     ]
    }
   ],
   "source": [
    "# проверка:\n",
    "print(np.round(np.dot(G, G_inv), 0))"
   ]
  },
  {
   "cell_type": "markdown",
   "metadata": {},
   "source": [
    "2. Приведите пример матрицы 4х4, ранг которой равен 1"
   ]
  },
  {
   "cell_type": "code",
   "execution_count": 23,
   "metadata": {
    "ExecuteTime": {
     "end_time": "2019-03-25T17:22:48.494328Z",
     "start_time": "2019-03-25T17:22:48.484356Z"
    }
   },
   "outputs": [],
   "source": [
    "v =np.array([1, 2, 3, 4])\n",
    "F = np.array([v * 1, v * 2, v * 3, v * 4], float)"
   ]
  },
  {
   "cell_type": "code",
   "execution_count": 24,
   "metadata": {
    "ExecuteTime": {
     "end_time": "2019-03-25T17:22:48.506299Z",
     "start_time": "2019-03-25T17:22:48.495326Z"
    }
   },
   "outputs": [
    {
     "name": "stdout",
     "output_type": "stream",
     "text": [
      "[[ 1.  2.  3.  4.]\n",
      " [ 2.  4.  6.  8.]\n",
      " [ 3.  6.  9. 12.]\n",
      " [ 4.  8. 12. 16.]]\n"
     ]
    }
   ],
   "source": [
    "print(F)"
   ]
  },
  {
   "cell_type": "code",
   "execution_count": 25,
   "metadata": {
    "ExecuteTime": {
     "end_time": "2019-03-25T17:22:48.524249Z",
     "start_time": "2019-03-25T17:22:48.507295Z"
    }
   },
   "outputs": [],
   "source": [
    "rank_F = np.linalg.matrix_rank(F)"
   ]
  },
  {
   "cell_type": "code",
   "execution_count": 26,
   "metadata": {
    "ExecuteTime": {
     "end_time": "2019-03-25T17:22:48.539211Z",
     "start_time": "2019-03-25T17:22:48.525247Z"
    }
   },
   "outputs": [
    {
     "name": "stdout",
     "output_type": "stream",
     "text": [
      "1\n"
     ]
    }
   ],
   "source": [
    "print(rank_F)"
   ]
  },
  {
   "cell_type": "markdown",
   "metadata": {},
   "source": [
    "#### 5.4.\n",
    "Вычислите скалярное произведение двух векторов:  \n",
    "(1, 5)  и  (2, 8)"
   ]
  },
  {
   "cell_type": "code",
   "execution_count": 27,
   "metadata": {
    "ExecuteTime": {
     "end_time": "2019-03-25T17:22:48.552174Z",
     "start_time": "2019-03-25T17:22:48.543197Z"
    }
   },
   "outputs": [],
   "source": [
    "a = np.array([1, 5], float)\n",
    "b = np.array([2, 8], float)"
   ]
  },
  {
   "cell_type": "code",
   "execution_count": 28,
   "metadata": {
    "ExecuteTime": {
     "end_time": "2019-03-25T17:22:48.568133Z",
     "start_time": "2019-03-25T17:22:48.553171Z"
    }
   },
   "outputs": [
    {
     "name": "stdout",
     "output_type": "stream",
     "text": [
      "a = [1. 5.]\n",
      "b = [2. 8.]\n"
     ]
    }
   ],
   "source": [
    "print(f'a = {a}')\n",
    "print(f'b = {b}')"
   ]
  },
  {
   "cell_type": "code",
   "execution_count": 29,
   "metadata": {
    "ExecuteTime": {
     "end_time": "2019-03-25T17:22:48.582093Z",
     "start_time": "2019-03-25T17:22:48.572122Z"
    }
   },
   "outputs": [],
   "source": [
    "ab = np.dot(a, b)"
   ]
  },
  {
   "cell_type": "code",
   "execution_count": 30,
   "metadata": {
    "ExecuteTime": {
     "end_time": "2019-03-25T17:22:48.597054Z",
     "start_time": "2019-03-25T17:22:48.583092Z"
    }
   },
   "outputs": [
    {
     "name": "stdout",
     "output_type": "stream",
     "text": [
      "42.0\n"
     ]
    }
   ],
   "source": [
    "print(ab)"
   ]
  },
  {
   "cell_type": "markdown",
   "metadata": {},
   "source": [
    "#### 5.5\n",
    "Вычислите смешанное произведение трех векторов:\n",
    "(1, 5, 0), (2, 8, 7) и (7, 1.5, 3) "
   ]
  },
  {
   "cell_type": "code",
   "execution_count": 31,
   "metadata": {
    "ExecuteTime": {
     "end_time": "2019-03-25T17:22:48.609022Z",
     "start_time": "2019-03-25T17:22:48.601044Z"
    }
   },
   "outputs": [],
   "source": [
    "x = np.array([1, 5, 0], float)\n",
    "y = np.array([2, 8, 7], float)\n",
    "z = np.array([7, 1.5, 3], float)"
   ]
  },
  {
   "cell_type": "code",
   "execution_count": 32,
   "metadata": {
    "ExecuteTime": {
     "end_time": "2019-03-25T17:22:48.625977Z",
     "start_time": "2019-03-25T17:22:48.611017Z"
    }
   },
   "outputs": [
    {
     "name": "stdout",
     "output_type": "stream",
     "text": [
      "x = [1. 5. 0.]\n",
      "y = [2. 8. 7.]\n",
      "z = [7.  1.5 3. ]\n"
     ]
    }
   ],
   "source": [
    "print(f'x = {x}')\n",
    "print(f'y = {y}')\n",
    "print(f'z = {z}')"
   ]
  },
  {
   "cell_type": "code",
   "execution_count": 33,
   "metadata": {
    "ExecuteTime": {
     "end_time": "2019-03-25T17:22:48.637945Z",
     "start_time": "2019-03-25T17:22:48.627971Z"
    }
   },
   "outputs": [],
   "source": [
    "xyz = np.dot(x, np.cross(y, z))"
   ]
  },
  {
   "cell_type": "code",
   "execution_count": 34,
   "metadata": {
    "ExecuteTime": {
     "end_time": "2019-03-25T17:22:48.651908Z",
     "start_time": "2019-03-25T17:22:48.638944Z"
    }
   },
   "outputs": [
    {
     "name": "stdout",
     "output_type": "stream",
     "text": [
      "228.5\n"
     ]
    }
   ],
   "source": [
    "print(xyz)"
   ]
  },
  {
   "cell_type": "code",
   "execution_count": null,
   "metadata": {},
   "outputs": [],
   "source": []
  }
 ],
 "metadata": {
  "kernelspec": {
   "display_name": "Python 3",
   "language": "python",
   "name": "python3"
  },
  "language_info": {
   "codemirror_mode": {
    "name": "ipython",
    "version": 3
   },
   "file_extension": ".py",
   "mimetype": "text/x-python",
   "name": "python",
   "nbconvert_exporter": "python",
   "pygments_lexer": "ipython3",
   "version": "3.7.1"
  }
 },
 "nbformat": 4,
 "nbformat_minor": 2
}

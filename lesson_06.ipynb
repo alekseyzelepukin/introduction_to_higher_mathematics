{
 "cells": [
  {
   "cell_type": "markdown",
   "metadata": {},
   "source": [
    "#### 1. Решите линейную систему:\n",
    "\\begin{equation*}\n",
    "\\begin{vmatrix}\n",
    "\\mathbf{1} & \\mathbf{2} & \\mathbf{3} \\\\\n",
    "\\mathbf{4} & \\mathbf{0} & \\mathbf{6} \\\\\n",
    "\\mathbf{7} & \\mathbf{8} & \\mathbf{9}\n",
    "\\end{vmatrix} * X = \n",
    "\\begin{vmatrix}\n",
    "\\mathbf{12} \\\\\n",
    "\\mathbf{2} \\\\\n",
    "\\mathbf{1}\n",
    "\\end{vmatrix}\n",
    "\\end{equation*}"
   ]
  },
  {
   "cell_type": "code",
   "execution_count": 1,
   "metadata": {
    "ExecuteTime": {
     "end_time": "2019-03-26T17:32:20.113626Z",
     "start_time": "2019-03-26T17:32:19.986965Z"
    }
   },
   "outputs": [],
   "source": [
    "import numpy as np"
   ]
  },
  {
   "cell_type": "code",
   "execution_count": 2,
   "metadata": {
    "ExecuteTime": {
     "end_time": "2019-03-26T17:32:20.122602Z",
     "start_time": "2019-03-26T17:32:20.116618Z"
    }
   },
   "outputs": [],
   "source": [
    "A = np.array([[1, 2, 3], [4, 0, 6], [7, 8, 9]], float)\n",
    "b = np.array([12, 2, 1], float)"
   ]
  },
  {
   "cell_type": "code",
   "execution_count": 3,
   "metadata": {
    "ExecuteTime": {
     "end_time": "2019-03-26T17:32:20.142549Z",
     "start_time": "2019-03-26T17:32:20.124597Z"
    }
   },
   "outputs": [
    {
     "name": "stdout",
     "output_type": "stream",
     "text": [
      "[[1. 2. 3.]\n",
      " [4. 0. 6.]\n",
      " [7. 8. 9.]]\n"
     ]
    }
   ],
   "source": [
    "print(A)"
   ]
  },
  {
   "cell_type": "code",
   "execution_count": 4,
   "metadata": {
    "ExecuteTime": {
     "end_time": "2019-03-26T17:32:20.154517Z",
     "start_time": "2019-03-26T17:32:20.146538Z"
    }
   },
   "outputs": [
    {
     "name": "stdout",
     "output_type": "stream",
     "text": [
      "[12.  2.  1.]\n"
     ]
    }
   ],
   "source": [
    "print(b)"
   ]
  },
  {
   "cell_type": "code",
   "execution_count": 5,
   "metadata": {
    "ExecuteTime": {
     "end_time": "2019-03-26T17:32:20.170474Z",
     "start_time": "2019-03-26T17:32:20.158506Z"
    }
   },
   "outputs": [],
   "source": [
    "det_A = np.linalg.det(A)"
   ]
  },
  {
   "cell_type": "code",
   "execution_count": 6,
   "metadata": {
    "ExecuteTime": {
     "end_time": "2019-03-26T17:32:20.184437Z",
     "start_time": "2019-03-26T17:32:20.173465Z"
    }
   },
   "outputs": [
    {
     "name": "stdout",
     "output_type": "stream",
     "text": [
      "59.999999999999986\n"
     ]
    }
   ],
   "source": [
    "print(det_A)"
   ]
  },
  {
   "cell_type": "code",
   "execution_count": 7,
   "metadata": {
    "ExecuteTime": {
     "end_time": "2019-03-26T17:32:20.198399Z",
     "start_time": "2019-03-26T17:32:20.186431Z"
    }
   },
   "outputs": [],
   "source": [
    "# определитель матрицы A не равен нулю, найдем решение СЛАУ"
   ]
  },
  {
   "cell_type": "code",
   "execution_count": 8,
   "metadata": {
    "ExecuteTime": {
     "end_time": "2019-03-26T17:32:20.211366Z",
     "start_time": "2019-03-26T17:32:20.200394Z"
    }
   },
   "outputs": [],
   "source": [
    "X1 = np.linalg.solve(A, b)\n",
    "X2 = np.dot(np.linalg.inv(A), b)"
   ]
  },
  {
   "cell_type": "code",
   "execution_count": 9,
   "metadata": {
    "ExecuteTime": {
     "end_time": "2019-03-26T17:32:20.225327Z",
     "start_time": "2019-03-26T17:32:20.213360Z"
    }
   },
   "outputs": [
    {
     "name": "stdout",
     "output_type": "stream",
     "text": [
      "[-9.2         0.9         6.46666667]\n",
      "[-9.2         0.9         6.46666667]\n"
     ]
    }
   ],
   "source": [
    "print(X1)\n",
    "print(X2)"
   ]
  },
  {
   "cell_type": "code",
   "execution_count": 10,
   "metadata": {
    "ExecuteTime": {
     "end_time": "2019-03-26T17:32:20.239290Z",
     "start_time": "2019-03-26T17:32:20.227322Z"
    }
   },
   "outputs": [
    {
     "name": "stdout",
     "output_type": "stream",
     "text": [
      "[12.  2.  1.]\n",
      "[12.  2.  1.]\n"
     ]
    }
   ],
   "source": [
    "# проверка:\n",
    "print(np.dot(A, X1))\n",
    "print(np.dot(A, X2))"
   ]
  },
  {
   "cell_type": "markdown",
   "metadata": {},
   "source": [
    "#### 2. Найдите псевдорешение:\n",
    "x + 2y – z = 1  \n",
    "3x – 4y = 7  \n",
    "8x – 5y + 2z = 12  \n",
    "2x – 5z = 7  \n",
    "11x +4y – 7z = 15"
   ]
  },
  {
   "cell_type": "code",
   "execution_count": 11,
   "metadata": {
    "ExecuteTime": {
     "end_time": "2019-03-26T17:32:20.251258Z",
     "start_time": "2019-03-26T17:32:20.241284Z"
    }
   },
   "outputs": [],
   "source": [
    "A = np.array([[1, 2, -1], [3, -4, 0], [8, -5, 2], [2, 0, -5], [11, 4, -7]], float)\n",
    "b = np.array([1, 7, 12, 7, 15], float)"
   ]
  },
  {
   "cell_type": "code",
   "execution_count": 12,
   "metadata": {
    "ExecuteTime": {
     "end_time": "2019-03-26T17:32:20.264225Z",
     "start_time": "2019-03-26T17:32:20.254251Z"
    }
   },
   "outputs": [
    {
     "name": "stdout",
     "output_type": "stream",
     "text": [
      "[[ 1.  2. -1.]\n",
      " [ 3. -4.  0.]\n",
      " [ 8. -5.  2.]\n",
      " [ 2.  0. -5.]\n",
      " [11.  4. -7.]]\n"
     ]
    }
   ],
   "source": [
    "print(A)"
   ]
  },
  {
   "cell_type": "code",
   "execution_count": 13,
   "metadata": {
    "ExecuteTime": {
     "end_time": "2019-03-26T17:32:20.281178Z",
     "start_time": "2019-03-26T17:32:20.266218Z"
    }
   },
   "outputs": [
    {
     "name": "stdout",
     "output_type": "stream",
     "text": [
      "[ 1.  7. 12.  7. 15.]\n"
     ]
    }
   ],
   "source": [
    "print(b)"
   ]
  },
  {
   "cell_type": "code",
   "execution_count": 14,
   "metadata": {
    "ExecuteTime": {
     "end_time": "2019-03-26T17:32:20.296138Z",
     "start_time": "2019-03-26T17:32:20.283172Z"
    }
   },
   "outputs": [],
   "source": [
    "X = np.linalg.lstsq(A, b, rcond=None)[0]"
   ]
  },
  {
   "cell_type": "code",
   "execution_count": 15,
   "metadata": {
    "ExecuteTime": {
     "end_time": "2019-03-26T17:32:20.310102Z",
     "start_time": "2019-03-26T17:32:20.298133Z"
    }
   },
   "outputs": [
    {
     "name": "stdout",
     "output_type": "stream",
     "text": [
      "[ 1.13919353 -0.90498444 -0.9009803 ]\n"
     ]
    }
   ],
   "source": [
    "print(X)"
   ]
  },
  {
   "cell_type": "code",
   "execution_count": 16,
   "metadata": {
    "ExecuteTime": {
     "end_time": "2019-03-26T17:32:20.323076Z",
     "start_time": "2019-03-26T17:32:20.313093Z"
    }
   },
   "outputs": [
    {
     "name": "stdout",
     "output_type": "stream",
     "text": [
      "[ 0.23020495  7.03751834 11.83650981  6.78328855 15.21805313]\n"
     ]
    }
   ],
   "source": [
    "# проверка:\n",
    "print(np.dot(A, X))"
   ]
  },
  {
   "cell_type": "markdown",
   "metadata": {},
   "source": [
    "#### 3. Сколько решений имеет линейная система:\n",
    "\\begin{equation*}\n",
    "\\begin{vmatrix}\n",
    "\\mathbf{1} & \\mathbf{2} & \\mathbf{3} \\\\\n",
    "\\mathbf{4} & \\mathbf{5} & \\mathbf{6} \\\\\n",
    "\\mathbf{7} & \\mathbf{8} & \\mathbf{9}\n",
    "\\end{vmatrix} * X = \n",
    "\\begin{vmatrix}\n",
    "\\mathbf{12} \\\\\n",
    "\\mathbf{2} \\\\\n",
    "\\mathbf{1}\n",
    "\\end{vmatrix}\n",
    "\\end{equation*}  \n",
    "Если ноль – то измените вектор правой части так, чтобы система стала совместной, и решите ее."
   ]
  },
  {
   "cell_type": "code",
   "execution_count": 17,
   "metadata": {
    "ExecuteTime": {
     "end_time": "2019-03-26T17:32:20.335033Z",
     "start_time": "2019-03-26T17:32:20.326059Z"
    }
   },
   "outputs": [],
   "source": [
    "A = np.array([[1, 2, 3], [4, 5, 6], [7, 8, 9]], float)\n",
    "b = np.array([[12, 2, 0]], float)"
   ]
  },
  {
   "cell_type": "code",
   "execution_count": 18,
   "metadata": {
    "ExecuteTime": {
     "end_time": "2019-03-26T17:32:20.348997Z",
     "start_time": "2019-03-26T17:32:20.344010Z"
    }
   },
   "outputs": [],
   "source": [
    "det_A = np.linalg.det(A)"
   ]
  },
  {
   "cell_type": "code",
   "execution_count": 19,
   "metadata": {
    "ExecuteTime": {
     "end_time": "2019-03-26T17:32:20.362959Z",
     "start_time": "2019-03-26T17:32:20.351989Z"
    }
   },
   "outputs": [
    {
     "name": "stdout",
     "output_type": "stream",
     "text": [
      "-0.0\n"
     ]
    }
   ],
   "source": [
    "print(np.round(det_A))"
   ]
  },
  {
   "cell_type": "code",
   "execution_count": 20,
   "metadata": {
    "ExecuteTime": {
     "end_time": "2019-03-26T17:32:20.373929Z",
     "start_time": "2019-03-26T17:32:20.364954Z"
    }
   },
   "outputs": [],
   "source": [
    "# определитель матрицы A равен 0"
   ]
  },
  {
   "cell_type": "code",
   "execution_count": 21,
   "metadata": {
    "ExecuteTime": {
     "end_time": "2019-03-26T17:32:20.385900Z",
     "start_time": "2019-03-26T17:32:20.374927Z"
    }
   },
   "outputs": [],
   "source": [
    "# посчитаем расширенную матрицу C\n",
    "C = np.concatenate((A, b.T), axis=1)"
   ]
  },
  {
   "cell_type": "code",
   "execution_count": 22,
   "metadata": {
    "ExecuteTime": {
     "end_time": "2019-03-26T17:32:20.397866Z",
     "start_time": "2019-03-26T17:32:20.386895Z"
    }
   },
   "outputs": [
    {
     "name": "stdout",
     "output_type": "stream",
     "text": [
      "[[ 1.  2.  3. 12.]\n",
      " [ 4.  5.  6.  2.]\n",
      " [ 7.  8.  9.  0.]]\n"
     ]
    }
   ],
   "source": [
    "print(C)"
   ]
  },
  {
   "cell_type": "code",
   "execution_count": 23,
   "metadata": {
    "ExecuteTime": {
     "end_time": "2019-03-26T17:32:20.409833Z",
     "start_time": "2019-03-26T17:32:20.399861Z"
    }
   },
   "outputs": [],
   "source": [
    "rank_A, rank_C = np.linalg.matrix_rank(A, 0.0001), np.linalg.matrix_rank(C, 0.0001)"
   ]
  },
  {
   "cell_type": "code",
   "execution_count": 24,
   "metadata": {
    "ExecuteTime": {
     "end_time": "2019-03-26T17:32:20.423797Z",
     "start_time": "2019-03-26T17:32:20.411829Z"
    }
   },
   "outputs": [
    {
     "name": "stdout",
     "output_type": "stream",
     "text": [
      "2 3\n"
     ]
    }
   ],
   "source": [
    "print(rank_A, rank_C)"
   ]
  },
  {
   "cell_type": "code",
   "execution_count": 25,
   "metadata": {
    "ExecuteTime": {
     "end_time": "2019-03-26T17:32:20.434767Z",
     "start_time": "2019-03-26T17:32:20.425791Z"
    }
   },
   "outputs": [],
   "source": [
    "# ранг расширенной матрицы C больше ранга матрицы A\n",
    "# система не имеет ни одно решения"
   ]
  },
  {
   "cell_type": "code",
   "execution_count": 26,
   "metadata": {
    "ExecuteTime": {
     "end_time": "2019-03-26T17:32:20.450725Z",
     "start_time": "2019-03-26T17:32:20.436762Z"
    }
   },
   "outputs": [],
   "source": [
    "# изменим вектор b\n",
    "b = np.array([[12, 15, 18]], float)"
   ]
  },
  {
   "cell_type": "code",
   "execution_count": 27,
   "metadata": {
    "ExecuteTime": {
     "end_time": "2019-03-26T17:32:20.465688Z",
     "start_time": "2019-03-26T17:32:20.452720Z"
    }
   },
   "outputs": [],
   "source": [
    "# посчитаем расширенную матрицу C с учетом измененного вектора b\n",
    "C = np.concatenate((A, b.T), axis=1)"
   ]
  },
  {
   "cell_type": "code",
   "execution_count": 28,
   "metadata": {
    "ExecuteTime": {
     "end_time": "2019-03-26T17:32:20.478651Z",
     "start_time": "2019-03-26T17:32:20.467679Z"
    }
   },
   "outputs": [
    {
     "name": "stdout",
     "output_type": "stream",
     "text": [
      "[[ 1.  2.  3. 12.]\n",
      " [ 4.  5.  6. 15.]\n",
      " [ 7.  8.  9. 18.]]\n"
     ]
    }
   ],
   "source": [
    "print(C)"
   ]
  },
  {
   "cell_type": "code",
   "execution_count": 29,
   "metadata": {
    "ExecuteTime": {
     "end_time": "2019-03-26T17:32:20.491629Z",
     "start_time": "2019-03-26T17:32:20.481642Z"
    }
   },
   "outputs": [],
   "source": [
    "rank_A, rank_C = np.linalg.matrix_rank(A, 0.0001), np.linalg.matrix_rank(C, 0.0001)"
   ]
  },
  {
   "cell_type": "code",
   "execution_count": 30,
   "metadata": {
    "ExecuteTime": {
     "end_time": "2019-03-26T17:32:20.505578Z",
     "start_time": "2019-03-26T17:32:20.493610Z"
    }
   },
   "outputs": [
    {
     "name": "stdout",
     "output_type": "stream",
     "text": [
      "2 2\n"
     ]
    }
   ],
   "source": [
    "print(rank_A, rank_C)"
   ]
  },
  {
   "cell_type": "code",
   "execution_count": 31,
   "metadata": {
    "ExecuteTime": {
     "end_time": "2019-03-26T17:32:20.516548Z",
     "start_time": "2019-03-26T17:32:20.507572Z"
    }
   },
   "outputs": [],
   "source": [
    "# ранги матрицы A и расширенной матрицы C совпадают\n",
    "# согласно теореме Кронекера-Капелли в таком случае, есть хотя бы одно решение\n",
    "# так как ранг матрицы A меньше кол-ва неизвестных, то имеется бесконечное множество решений "
   ]
  },
  {
   "cell_type": "code",
   "execution_count": 32,
   "metadata": {
    "ExecuteTime": {
     "end_time": "2019-03-26T17:32:20.532506Z",
     "start_time": "2019-03-26T17:32:20.517546Z"
    }
   },
   "outputs": [],
   "source": [
    "X = np.linalg.lstsq(A, b[0], rcond=None)[0]"
   ]
  },
  {
   "cell_type": "code",
   "execution_count": 33,
   "metadata": {
    "ExecuteTime": {
     "end_time": "2019-03-26T17:32:20.545471Z",
     "start_time": "2019-03-26T17:32:20.533503Z"
    }
   },
   "outputs": [
    {
     "name": "stdout",
     "output_type": "stream",
     "text": [
      "[-4.66666667  0.33333333  5.33333333]\n"
     ]
    }
   ],
   "source": [
    "print(X)"
   ]
  },
  {
   "cell_type": "code",
   "execution_count": 34,
   "metadata": {
    "ExecuteTime": {
     "end_time": "2019-03-26T17:32:20.556444Z",
     "start_time": "2019-03-26T17:32:20.547466Z"
    }
   },
   "outputs": [
    {
     "name": "stdout",
     "output_type": "stream",
     "text": [
      "[12. 15. 18.]\n"
     ]
    }
   ],
   "source": [
    "# проверка:\n",
    "print(np.dot(A, X))"
   ]
  },
  {
   "cell_type": "markdown",
   "metadata": {},
   "source": [
    "#### 4. Вычислите LU-разложение матрицы:\n",
    "\\begin{equation*}\n",
    "\\begin{vmatrix}\n",
    "\\mathbf{1} & \\mathbf{2} & \\mathbf{3} \\\\\n",
    "\\mathbf{2} & \\mathbf{16} & \\mathbf{21} \\\\\n",
    "\\mathbf{4} & \\mathbf{28} & \\mathbf{73}\n",
    "\\end{vmatrix} \n",
    "\\end{equation*}  \n",
    "После этого придумайте вектор правых частей и решите полученную линейную систему трех уравнений с данной матрицей."
   ]
  },
  {
   "cell_type": "code",
   "execution_count": 35,
   "metadata": {
    "ExecuteTime": {
     "end_time": "2019-03-26T17:32:20.601321Z",
     "start_time": "2019-03-26T17:32:20.559434Z"
    }
   },
   "outputs": [],
   "source": [
    "import scipy\n",
    "import scipy.linalg"
   ]
  },
  {
   "cell_type": "code",
   "execution_count": 36,
   "metadata": {
    "ExecuteTime": {
     "end_time": "2019-03-26T17:32:20.607307Z",
     "start_time": "2019-03-26T17:32:20.602319Z"
    }
   },
   "outputs": [],
   "source": [
    "A = np.array([[1, 2, 3], [2, 16, 21], [4, 28, 73]], float)"
   ]
  },
  {
   "cell_type": "code",
   "execution_count": 37,
   "metadata": {
    "ExecuteTime": {
     "end_time": "2019-03-26T17:32:20.619274Z",
     "start_time": "2019-03-26T17:32:20.609301Z"
    }
   },
   "outputs": [
    {
     "name": "stdout",
     "output_type": "stream",
     "text": [
      "[[ 1.  2.  3.]\n",
      " [ 2. 16. 21.]\n",
      " [ 4. 28. 73.]]\n"
     ]
    }
   ],
   "source": [
    "print(A)"
   ]
  },
  {
   "cell_type": "code",
   "execution_count": 38,
   "metadata": {
    "ExecuteTime": {
     "end_time": "2019-03-26T17:32:20.632239Z",
     "start_time": "2019-03-26T17:32:20.621267Z"
    }
   },
   "outputs": [],
   "source": [
    "# LU-разложение матрицы A\n",
    "P, L, U = scipy.linalg.lu(A)"
   ]
  },
  {
   "cell_type": "code",
   "execution_count": 39,
   "metadata": {
    "ExecuteTime": {
     "end_time": "2019-03-26T17:32:20.646201Z",
     "start_time": "2019-03-26T17:32:20.633237Z"
    }
   },
   "outputs": [
    {
     "name": "stdout",
     "output_type": "stream",
     "text": [
      "P: \n",
      "[[0. 1. 0.]\n",
      " [0. 0. 1.]\n",
      " [1. 0. 0.]]\n",
      "L: \n",
      "[[ 1.    0.    0.  ]\n",
      " [ 0.25  1.    0.  ]\n",
      " [ 0.5  -0.4   1.  ]]\n",
      "U: \n",
      "[[  4.    28.    73.  ]\n",
      " [  0.    -5.   -15.25]\n",
      " [  0.     0.   -21.6 ]]\n"
     ]
    }
   ],
   "source": [
    "print(f'P: \\n{P}')\n",
    "print(f'L: \\n{L}')\n",
    "print(f'U: \\n{U}')"
   ]
  },
  {
   "cell_type": "code",
   "execution_count": 40,
   "metadata": {
    "ExecuteTime": {
     "end_time": "2019-03-26T17:32:20.656174Z",
     "start_time": "2019-03-26T17:32:20.648196Z"
    }
   },
   "outputs": [],
   "source": [
    "b = np.array([4, 28, 94], float)"
   ]
  },
  {
   "cell_type": "code",
   "execution_count": 41,
   "metadata": {
    "ExecuteTime": {
     "end_time": "2019-03-26T17:32:20.672132Z",
     "start_time": "2019-03-26T17:32:20.667147Z"
    }
   },
   "outputs": [
    {
     "name": "stdout",
     "output_type": "stream",
     "text": [
      "[ 4. 28. 94.]\n"
     ]
    }
   ],
   "source": [
    "print(b)"
   ]
  },
  {
   "cell_type": "code",
   "execution_count": 42,
   "metadata": {
    "ExecuteTime": {
     "end_time": "2019-03-26T17:32:20.684101Z",
     "start_time": "2019-03-26T17:32:20.676122Z"
    }
   },
   "outputs": [],
   "source": [
    "det_A = np.linalg.det(A)"
   ]
  },
  {
   "cell_type": "code",
   "execution_count": 43,
   "metadata": {
    "ExecuteTime": {
     "end_time": "2019-03-26T17:32:20.696069Z",
     "start_time": "2019-03-26T17:32:20.686094Z"
    }
   },
   "outputs": [
    {
     "name": "stdout",
     "output_type": "stream",
     "text": [
      "432.0\n"
     ]
    }
   ],
   "source": [
    "print(np.round(det_A))"
   ]
  },
  {
   "cell_type": "code",
   "execution_count": 44,
   "metadata": {
    "ExecuteTime": {
     "end_time": "2019-03-26T17:32:20.708036Z",
     "start_time": "2019-03-26T17:32:20.698064Z"
    }
   },
   "outputs": [],
   "source": [
    "X = np.linalg.solve(A, b)"
   ]
  },
  {
   "cell_type": "code",
   "execution_count": 45,
   "metadata": {
    "ExecuteTime": {
     "end_time": "2019-03-26T17:32:20.721002Z",
     "start_time": "2019-03-26T17:32:20.709034Z"
    }
   },
   "outputs": [
    {
     "name": "stdout",
     "output_type": "stream",
     "text": [
      "[0.0462963  0.11574074 1.24074074]\n"
     ]
    }
   ],
   "source": [
    "print(X)"
   ]
  },
  {
   "cell_type": "code",
   "execution_count": 46,
   "metadata": {
    "ExecuteTime": {
     "end_time": "2019-03-26T17:32:20.732970Z",
     "start_time": "2019-03-26T17:32:20.722997Z"
    }
   },
   "outputs": [
    {
     "name": "stdout",
     "output_type": "stream",
     "text": [
      "[ 4. 28. 94.]\n"
     ]
    }
   ],
   "source": [
    "# проверка:\n",
    "print(np.dot(A, X))"
   ]
  },
  {
   "cell_type": "markdown",
   "metadata": {},
   "source": [
    "#### 5. Найдите нормальное псевдорешение недоопределенной системы:\n",
    "x + 2y – z = 1  \n",
    "8x – 5y + 2z = 12  \n",
    "Для этого определите функцию Q(x,y,z), равную норме решения, и найдите ее минимум. "
   ]
  },
  {
   "cell_type": "code",
   "execution_count": 47,
   "metadata": {
    "ExecuteTime": {
     "end_time": "2019-03-26T17:32:21.029177Z",
     "start_time": "2019-03-26T17:32:20.734964Z"
    }
   },
   "outputs": [],
   "source": [
    "import matplotlib.pyplot as plt\n",
    "%matplotlib inline"
   ]
  },
  {
   "cell_type": "code",
   "execution_count": 48,
   "metadata": {
    "ExecuteTime": {
     "end_time": "2019-03-26T17:32:21.037156Z",
     "start_time": "2019-03-26T17:32:21.031172Z"
    }
   },
   "outputs": [],
   "source": [
    "A = np.array([[1, 2, -1], [8, -5, 2]], float)"
   ]
  },
  {
   "cell_type": "code",
   "execution_count": 49,
   "metadata": {
    "ExecuteTime": {
     "end_time": "2019-03-26T17:32:21.048140Z",
     "start_time": "2019-03-26T17:32:21.039151Z"
    }
   },
   "outputs": [],
   "source": [
    "b = np.array([1, 12], float)"
   ]
  },
  {
   "cell_type": "code",
   "execution_count": 50,
   "metadata": {
    "ExecuteTime": {
     "end_time": "2019-03-26T17:32:21.062090Z",
     "start_time": "2019-03-26T17:32:21.050121Z"
    }
   },
   "outputs": [
    {
     "name": "stdout",
     "output_type": "stream",
     "text": [
      "[[ 1.  2. -1.]\n",
      " [ 8. -5.  2.]]\n"
     ]
    }
   ],
   "source": [
    "print(A)"
   ]
  },
  {
   "cell_type": "code",
   "execution_count": 51,
   "metadata": {
    "ExecuteTime": {
     "end_time": "2019-03-26T17:32:21.079044Z",
     "start_time": "2019-03-26T17:32:21.063088Z"
    }
   },
   "outputs": [
    {
     "name": "stdout",
     "output_type": "stream",
     "text": [
      "[ 1. 12.]\n"
     ]
    }
   ],
   "source": [
    "print(b)"
   ]
  },
  {
   "cell_type": "code",
   "execution_count": 52,
   "metadata": {
    "ExecuteTime": {
     "end_time": "2019-03-26T17:32:21.090016Z",
     "start_time": "2019-03-26T17:32:21.081039Z"
    }
   },
   "outputs": [],
   "source": [
    "def Q(x, y, z):\n",
    "    return (x**2 + y**2 + z**2)"
   ]
  },
  {
   "cell_type": "code",
   "execution_count": 53,
   "metadata": {
    "ExecuteTime": {
     "end_time": "2019-03-26T17:32:21.267540Z",
     "start_time": "2019-03-26T17:32:21.093006Z"
    }
   },
   "outputs": [
    {
     "data": {
      "image/png": "[encoded data removed]",
      "text/plain": [
       "<Figure size 432x288 with 1 Axes>"
      ]
     },
     "metadata": {
      "needs_background": "light"
     },
     "output_type": "display_data"
    }
   ],
   "source": [
    "# итерация 1\n",
    "x = np.linspace(-5, 5, 201)\n",
    "y = 10 * x - 14\n",
    "z = x + 2 * y - 1\n",
    "\n",
    "plt.plot(x, Q(x, y, z))\n",
    "plt.xlabel('x')\n",
    "plt.ylabel('Q(x, y, z)')\n",
    "plt.grid(True)\n",
    "plt.show()"
   ]
  },
  {
   "cell_type": "code",
   "execution_count": 54,
   "metadata": {
    "ExecuteTime": {
     "end_time": "2019-03-26T17:32:21.460024Z",
     "start_time": "2019-03-26T17:32:21.268538Z"
    }
   },
   "outputs": [
    {
     "data": {
      "image/png": "[encoded data removed]",
      "text/plain": [
       "<Figure size 432x288 with 1 Axes>"
      ]
     },
     "metadata": {
      "needs_background": "light"
     },
     "output_type": "display_data"
    }
   ],
   "source": [
    "# итерация 2\n",
    "x = np.linspace(0, 2, 201)\n",
    "y = 10 * x - 14\n",
    "z = x + 2 * y - 1\n",
    "\n",
    "plt.plot(x, Q(x, y, z))\n",
    "plt.xlabel('x')\n",
    "plt.ylabel('Q(x, y, z)')\n",
    "plt.grid(True)\n",
    "plt.show()"
   ]
  },
  {
   "cell_type": "code",
   "execution_count": 55,
   "metadata": {
    "ExecuteTime": {
     "end_time": "2019-03-26T17:32:21.609631Z",
     "start_time": "2019-03-26T17:32:21.462020Z"
    }
   },
   "outputs": [
    {
     "data": {
      "image/png": "[encoded data removed]",
      "text/plain": [
       "<Figure size 432x288 with 1 Axes>"
      ]
     },
     "metadata": {
      "needs_background": "light"
     },
     "output_type": "display_data"
    }
   ],
   "source": [
    "# итерация 3\n",
    "x = np.linspace(1.25, 1.5, 201)\n",
    "y = 10 * x - 14\n",
    "z = x + 2 * y - 1\n",
    "\n",
    "plt.plot(x, Q(x, y, z))\n",
    "plt.xlabel('x')\n",
    "plt.ylabel('Q(x, y, z)')\n",
    "plt.grid(True)\n",
    "plt.show()"
   ]
  },
  {
   "cell_type": "code",
   "execution_count": 56,
   "metadata": {
    "ExecuteTime": {
     "end_time": "2019-03-26T17:32:21.615615Z",
     "start_time": "2019-03-26T17:32:21.610628Z"
    }
   },
   "outputs": [],
   "source": [
    "# исходя из визуального анализа гарафика:\n",
    "x = 1.38\n",
    "y = 10 * x - 14\n",
    "z = x + 2 * y - 1\n",
    "\n",
    "X1 = np.array([x, y, z])"
   ]
  },
  {
   "cell_type": "code",
   "execution_count": 57,
   "metadata": {
    "ExecuteTime": {
     "end_time": "2019-03-26T17:32:21.628579Z",
     "start_time": "2019-03-26T17:32:21.616612Z"
    }
   },
   "outputs": [
    {
     "name": "stdout",
     "output_type": "stream",
     "text": [
      "[ 1.38 -0.2  -0.02]\n"
     ]
    }
   ],
   "source": [
    "print(X1)"
   ]
  },
  {
   "cell_type": "code",
   "execution_count": 58,
   "metadata": {
    "ExecuteTime": {
     "end_time": "2019-03-26T17:32:21.640548Z",
     "start_time": "2019-03-26T17:32:21.629578Z"
    }
   },
   "outputs": [],
   "source": [
    "# нормальное пвсевдорешение численным методом:\n",
    "X2 = np.linalg.lstsq(A, b, rcond=None)[0]"
   ]
  },
  {
   "cell_type": "code",
   "execution_count": 59,
   "metadata": {
    "ExecuteTime": {
     "end_time": "2019-03-26T17:32:21.652516Z",
     "start_time": "2019-03-26T17:32:21.642543Z"
    }
   },
   "outputs": [
    {
     "name": "stdout",
     "output_type": "stream",
     "text": [
      "[ 1.38191882 -0.18081181  0.0202952 ]\n"
     ]
    }
   ],
   "source": [
    "print(X2)"
   ]
  },
  {
   "cell_type": "code",
   "execution_count": 60,
   "metadata": {
    "ExecuteTime": {
     "end_time": "2019-03-26T17:32:21.665481Z",
     "start_time": "2019-03-26T17:32:21.654510Z"
    }
   },
   "outputs": [
    {
     "name": "stdout",
     "output_type": "stream",
     "text": [
      "[ 1. 12.]\n",
      "[ 1. 12.]\n"
     ]
    }
   ],
   "source": [
    "# проверка:\n",
    "print(np.dot(A, X1))\n",
    "print(np.dot(A, X2))"
   ]
  },
  {
   "cell_type": "markdown",
   "metadata": {},
   "source": [
    "#### 6. Найдите одно из псевдорешений вырожденной системы:\n",
    "\\begin{equation*}\n",
    "\\begin{vmatrix}\n",
    "\\mathbf{1} & \\mathbf{2} & \\mathbf{3} \\\\\n",
    "\\mathbf{4} & \\mathbf{5} & \\mathbf{6} \\\\\n",
    "\\mathbf{7} & \\mathbf{8} & \\mathbf{9}\n",
    "\\end{vmatrix} * X = \n",
    "\\begin{vmatrix}\n",
    "\\mathbf{2} \\\\\n",
    "\\mathbf{5} \\\\\n",
    "\\mathbf{11}\n",
    "\\end{vmatrix}\n",
    "\\end{equation*}  \n",
    "Попробуйте также отыскать и нормальное псевдорешение."
   ]
  },
  {
   "cell_type": "code",
   "execution_count": 61,
   "metadata": {
    "ExecuteTime": {
     "end_time": "2019-03-26T17:32:21.676466Z",
     "start_time": "2019-03-26T17:32:21.666478Z"
    }
   },
   "outputs": [],
   "source": [
    "A = np.array([[1, 2, 3], [4, 5 ,6], [7, 8, 9]], float)\n",
    "b = np.array([2, 5, 11])"
   ]
  },
  {
   "cell_type": "code",
   "execution_count": 62,
   "metadata": {
    "ExecuteTime": {
     "end_time": "2019-03-26T17:32:21.689418Z",
     "start_time": "2019-03-26T17:32:21.677449Z"
    }
   },
   "outputs": [
    {
     "name": "stdout",
     "output_type": "stream",
     "text": [
      "[[1. 2. 3.]\n",
      " [4. 5. 6.]\n",
      " [7. 8. 9.]]\n"
     ]
    }
   ],
   "source": [
    "print(A)"
   ]
  },
  {
   "cell_type": "code",
   "execution_count": 63,
   "metadata": {
    "ExecuteTime": {
     "end_time": "2019-03-26T17:32:21.706372Z",
     "start_time": "2019-03-26T17:32:21.692409Z"
    }
   },
   "outputs": [
    {
     "name": "stdout",
     "output_type": "stream",
     "text": [
      "[ 2  5 11]\n"
     ]
    }
   ],
   "source": [
    "print(b)"
   ]
  },
  {
   "cell_type": "code",
   "execution_count": 64,
   "metadata": {
    "ExecuteTime": {
     "end_time": "2019-03-26T17:32:21.717342Z",
     "start_time": "2019-03-26T17:32:21.708367Z"
    }
   },
   "outputs": [],
   "source": [
    "det_A = np.linalg.det(A)"
   ]
  },
  {
   "cell_type": "code",
   "execution_count": 65,
   "metadata": {
    "ExecuteTime": {
     "end_time": "2019-03-26T17:32:21.731305Z",
     "start_time": "2019-03-26T17:32:21.718339Z"
    }
   },
   "outputs": [
    {
     "name": "stdout",
     "output_type": "stream",
     "text": [
      "-0.0\n"
     ]
    }
   ],
   "source": [
    "print(np.round(det_A))"
   ]
  },
  {
   "cell_type": "code",
   "execution_count": 66,
   "metadata": {
    "ExecuteTime": {
     "end_time": "2019-03-26T17:32:21.746266Z",
     "start_time": "2019-03-26T17:32:21.733300Z"
    }
   },
   "outputs": [],
   "source": [
    "Q, R = np.linalg.qr(A)"
   ]
  },
  {
   "cell_type": "code",
   "execution_count": 67,
   "metadata": {
    "ExecuteTime": {
     "end_time": "2019-03-26T17:32:21.761225Z",
     "start_time": "2019-03-26T17:32:21.748259Z"
    }
   },
   "outputs": [
    {
     "name": "stdout",
     "output_type": "stream",
     "text": [
      "Q: \n",
      "[[-0.12309149  0.90453403  0.40824829]\n",
      " [-0.49236596  0.30151134 -0.81649658]\n",
      " [-0.86164044 -0.30151134  0.40824829]]\n",
      "R: \n",
      "[[-8.12403840e+00 -9.60113630e+00 -1.10782342e+01]\n",
      " [ 0.00000000e+00  9.04534034e-01  1.80906807e+00]\n",
      " [ 0.00000000e+00  0.00000000e+00 -1.11164740e-15]]\n"
     ]
    }
   ],
   "source": [
    "print(f'Q: \\n{Q}')\n",
    "print(f'R: \\n{R}')"
   ]
  },
  {
   "cell_type": "code",
   "execution_count": 68,
   "metadata": {
    "ExecuteTime": {
     "end_time": "2019-03-26T17:32:21.772195Z",
     "start_time": "2019-03-26T17:32:21.762223Z"
    }
   },
   "outputs": [],
   "source": [
    "R1 = R[:2, :2]"
   ]
  },
  {
   "cell_type": "code",
   "execution_count": 69,
   "metadata": {
    "ExecuteTime": {
     "end_time": "2019-03-26T17:32:21.787156Z",
     "start_time": "2019-03-26T17:32:21.774191Z"
    }
   },
   "outputs": [
    {
     "name": "stdout",
     "output_type": "stream",
     "text": [
      "[[-8.1240384  -9.6011363 ]\n",
      " [ 0.          0.90453403]]\n"
     ]
    }
   ],
   "source": [
    "print(R1)"
   ]
  },
  {
   "cell_type": "code",
   "execution_count": 70,
   "metadata": {
    "ExecuteTime": {
     "end_time": "2019-03-26T17:32:21.800633Z",
     "start_time": "2019-03-26T17:32:21.788154Z"
    }
   },
   "outputs": [],
   "source": [
    "b1 = np.dot(Q.T, b)[:2]"
   ]
  },
  {
   "cell_type": "code",
   "execution_count": 71,
   "metadata": {
    "ExecuteTime": {
     "end_time": "2019-03-26T17:32:21.813600Z",
     "start_time": "2019-03-26T17:32:21.802629Z"
    }
   },
   "outputs": [
    {
     "name": "stdout",
     "output_type": "stream",
     "text": [
      "[-1.21860576e+01  8.54871729e-15]\n"
     ]
    }
   ],
   "source": [
    "print(b1)"
   ]
  },
  {
   "cell_type": "code",
   "execution_count": 72,
   "metadata": {
    "ExecuteTime": {
     "end_time": "2019-03-26T17:32:21.826565Z",
     "start_time": "2019-03-26T17:32:21.814597Z"
    }
   },
   "outputs": [],
   "source": [
    "# найдем псевдорешение:\n",
    "X1 = np.append(np.linalg.solve(R1, b1), 0)"
   ]
  },
  {
   "cell_type": "code",
   "execution_count": 73,
   "metadata": {
    "ExecuteTime": {
     "end_time": "2019-03-26T17:32:21.840528Z",
     "start_time": "2019-03-26T17:32:21.827563Z"
    }
   },
   "outputs": [
    {
     "name": "stdout",
     "output_type": "stream",
     "text": [
      "[1.50000000e+00 9.45096256e-15 0.00000000e+00]\n"
     ]
    }
   ],
   "source": [
    "print(X1)"
   ]
  },
  {
   "cell_type": "code",
   "execution_count": 74,
   "metadata": {
    "ExecuteTime": {
     "end_time": "2019-03-26T17:32:21.852495Z",
     "start_time": "2019-03-26T17:32:21.842523Z"
    }
   },
   "outputs": [],
   "source": [
    "# найдем нормальное псевдорешени:\n",
    "X2 = np.linalg.lstsq(A, b, rcond=None)[0]"
   ]
  },
  {
   "cell_type": "code",
   "execution_count": 75,
   "metadata": {
    "ExecuteTime": {
     "end_time": "2019-03-26T17:32:21.864464Z",
     "start_time": "2019-03-26T17:32:21.853494Z"
    }
   },
   "outputs": [
    {
     "name": "stdout",
     "output_type": "stream",
     "text": [
      "[ 1.25  0.5  -0.25]\n"
     ]
    }
   ],
   "source": [
    "print(X2)"
   ]
  },
  {
   "cell_type": "code",
   "execution_count": 76,
   "metadata": {
    "ExecuteTime": {
     "end_time": "2019-03-26T17:32:21.878428Z",
     "start_time": "2019-03-26T17:32:21.866458Z"
    }
   },
   "outputs": [
    {
     "name": "stdout",
     "output_type": "stream",
     "text": [
      "1.4999999999999893\n",
      "1.3693063937629126\n"
     ]
    }
   ],
   "source": [
    "# нормы векторов псевдорешения и нормального псевдорешения:\n",
    "print(np.linalg.norm(X1))\n",
    "print(np.linalg.norm(X2))"
   ]
  },
  {
   "cell_type": "code",
   "execution_count": 77,
   "metadata": {
    "ExecuteTime": {
     "end_time": "2019-03-26T17:32:21.891391Z",
     "start_time": "2019-03-26T17:32:21.880420Z"
    }
   },
   "outputs": [
    {
     "name": "stdout",
     "output_type": "stream",
     "text": [
      "[ 1.5  6.  10.5]\n",
      "[ 1.5  6.  10.5]\n"
     ]
    }
   ],
   "source": [
    "# проверка:\n",
    "print(np.dot(A, X1))\n",
    "print(np.dot(A, X2))"
   ]
  },
  {
   "cell_type": "code",
   "execution_count": null,
   "metadata": {},
   "outputs": [],
   "source": []
  }
 ],
 "metadata": {
  "kernelspec": {
   "display_name": "Python 3",
   "language": "python",
   "name": "python3"
  },
  "language_info": {
   "codemirror_mode": {
    "name": "ipython",
    "version": 3
   },
   "file_extension": ".py",
   "mimetype": "text/x-python",
   "name": "python",
   "nbconvert_exporter": "python",
   "pygments_lexer": "ipython3",
   "version": "3.7.1"
  }
 },
 "nbformat": 4,
 "nbformat_minor": 2
}

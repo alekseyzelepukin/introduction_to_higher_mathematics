{
 "cells": [
  {
   "cell_type": "markdown",
   "metadata": {},
   "source": [
    "#### 1. Напишите код, моделирующий выпадение поля в рулетке (с учетом поля зеро)."
   ]
  },
  {
   "cell_type": "code",
   "execution_count": 1,
   "metadata": {
    "ExecuteTime": {
     "end_time": "2019-03-17T11:32:19.200587Z",
     "start_time": "2019-03-17T11:32:18.752090Z"
    }
   },
   "outputs": [],
   "source": [
    "import numpy as np\n",
    "import matplotlib.pyplot as plt\n",
    "%matplotlib inline\n",
    "from collections import Counter"
   ]
  },
  {
   "cell_type": "code",
   "execution_count": 2,
   "metadata": {
    "ExecuteTime": {
     "end_time": "2019-03-17T11:32:19.210073Z",
     "start_time": "2019-03-17T11:32:19.204098Z"
    }
   },
   "outputs": [],
   "source": [
    "def roulette():\n",
    "    return np.random.randint(0, 37)"
   ]
  },
  {
   "cell_type": "code",
   "execution_count": 3,
   "metadata": {
    "ExecuteTime": {
     "end_time": "2019-03-17T11:32:19.230020Z",
     "start_time": "2019-03-17T11:32:19.212067Z"
    }
   },
   "outputs": [
    {
     "name": "stdout",
     "output_type": "stream",
     "text": [
      "23\n"
     ]
    }
   ],
   "source": [
    "print(roulette())"
   ]
  },
  {
   "cell_type": "code",
   "execution_count": 4,
   "metadata": {
    "ExecuteTime": {
     "end_time": "2019-03-17T11:32:20.563452Z",
     "start_time": "2019-03-17T11:32:19.235005Z"
    }
   },
   "outputs": [
    {
     "data": {
      "text/plain": [
       "[<matplotlib.lines.Line2D at 0x28aeb807c88>]"
      ]
     },
     "execution_count": 4,
     "metadata": {},
     "output_type": "execute_result"
    },
    {
     "data": {
      "image/png": "[encoded data removed]",
      "text/plain": [
       "<Figure size 432x288 with 1 Axes>"
      ]
     },
     "metadata": {
      "needs_background": "light"
     },
     "output_type": "display_data"
    }
   ],
   "source": [
    "# проверим равновероятность выпадения каждого из 37 целых чисел на интервале [0, 36]\n",
    "n = 370000\n",
    "c = Counter([roulette() for _ in range(n)])\n",
    "x = [i for i in range(37)]\n",
    "y = [n / 37 for _ in range(37)]\n",
    "plt.bar(c.keys(), c.values())\n",
    "plt.plot(x, y, color = 'red')"
   ]
  },
  {
   "cell_type": "markdown",
   "metadata": {},
   "source": [
    "#### 2. \n",
    "1) Напишите код, проверяющий любую из теорем сложения или умножения вероятности на примере подбрасывания монетки.   "
   ]
  },
  {
   "cell_type": "code",
   "execution_count": 5,
   "metadata": {
    "ExecuteTime": {
     "end_time": "2019-03-17T11:32:20.572429Z",
     "start_time": "2019-03-17T11:32:20.566445Z"
    }
   },
   "outputs": [],
   "source": [
    "def coin():\n",
    "    r = np.random.rand()\n",
    "    if r < 0.5:\n",
    "        return 0\n",
    "    else:\n",
    "        return 1"
   ]
  },
  {
   "cell_type": "code",
   "execution_count": 6,
   "metadata": {
    "ExecuteTime": {
     "end_time": "2019-03-17T11:32:20.584397Z",
     "start_time": "2019-03-17T11:32:20.574423Z"
    }
   },
   "outputs": [],
   "source": [
    "# проверим теорему сложения вероятностей\n",
    "# Теорема о сложении вероятностей.\n",
    "# Вероятность появления одного из двух несовместных событий равна сумме вероятностей этих событий.\n",
    "# P(A+B) = P(A) + P(B)"
   ]
  },
  {
   "cell_type": "code",
   "execution_count": 7,
   "metadata": {
    "ExecuteTime": {
     "end_time": "2019-03-17T11:32:20.596364Z",
     "start_time": "2019-03-17T11:32:20.585394Z"
    }
   },
   "outputs": [],
   "source": [
    "# проведем серию испытаний (бросков монеты):\n",
    "n = 10\n",
    "results = np.array([coin() for _ in range(n)])\n",
    "heads = results[results == 1]\n",
    "tails = results[results == 0]"
   ]
  },
  {
   "cell_type": "code",
   "execution_count": 8,
   "metadata": {
    "ExecuteTime": {
     "end_time": "2019-03-17T11:32:20.608332Z",
     "start_time": "2019-03-17T11:32:20.598361Z"
    }
   },
   "outputs": [],
   "source": [
    "# P(A) = m/n, где m - кол-во выпадений орла (1), n - общее кол-во испытаний\n",
    "# P(B) = k/n, где k - кол-во выпадений решки (0), n - общее кол-во испытаний\n",
    "# P(A+B) = P(A) + P(B) = m/n + k/n = (m+k)/n\n",
    "m, k = len(heads), len(tails)\n",
    "p = (m + k) / n"
   ]
  },
  {
   "cell_type": "code",
   "execution_count": 9,
   "metadata": {
    "ExecuteTime": {
     "end_time": "2019-03-17T11:32:20.620301Z",
     "start_time": "2019-03-17T11:32:20.610327Z"
    }
   },
   "outputs": [
    {
     "name": "stdout",
     "output_type": "stream",
     "text": [
      "True\n"
     ]
    }
   ],
   "source": [
    "# так как при подбрасывании монеты произойдет одно из двух событий: выпадение орла (1) или решки (0)\n",
    "# предпологаем, что монета честная, случай падения на ребро не рассматриваем\n",
    "# то P(A+B) = P(A) + P(B) = 1/2 + 1/2 = 1\n",
    "# проверим:\n",
    "P = 1/2 + 1/2\n",
    "print(P == p)"
   ]
  },
  {
   "cell_type": "code",
   "execution_count": 10,
   "metadata": {
    "ExecuteTime": {
     "end_time": "2019-03-17T11:32:20.631271Z",
     "start_time": "2019-03-17T11:32:20.621304Z"
    }
   },
   "outputs": [],
   "source": [
    "# подставим полученные выражения в формулу суммы вероятностей двух несовместных событий,\n",
    "# получаем тождество 1 = 1\n",
    "# теорема доказана"
   ]
  },
  {
   "cell_type": "markdown",
   "metadata": {},
   "source": [
    "2) Сгенерируйте десять выборок случайных чисел х0, …, х9. и постройте гистограмму распределения случайной суммы х0+х1+ …+ х9."
   ]
  },
  {
   "cell_type": "code",
   "execution_count": 11,
   "metadata": {
    "ExecuteTime": {
     "end_time": "2019-03-17T11:32:20.644237Z",
     "start_time": "2019-03-17T11:32:20.632268Z"
    }
   },
   "outputs": [],
   "source": [
    "# сгенерируем n выборок m случайных чисел и запишем результат в массив:\n",
    "n = 10\n",
    "m = 10\n",
    "samples = np.array([np.random.randint(0, 100, m) for _ in range(n)])"
   ]
  },
  {
   "cell_type": "code",
   "execution_count": 12,
   "metadata": {
    "ExecuteTime": {
     "end_time": "2019-03-17T11:32:20.656712Z",
     "start_time": "2019-03-17T11:32:20.645234Z"
    }
   },
   "outputs": [
    {
     "name": "stdout",
     "output_type": "stream",
     "text": [
      "[[13 43 40 19 45 64 46 83 20 51]\n",
      " [90  0 90 96 93 78  8 38 62 47]\n",
      " [44 63 58 82 94 26 80 79 39 44]\n",
      " [48 68 18 35 49  8 80 93 57 48]\n",
      " [49  4  1 14 93 30 79 69 26 77]\n",
      " [68 13  1 26 26 35 98 41 92 78]\n",
      " [44 18 41 16 62 48  7  8 58 40]\n",
      " [18 78 54 66 31 82 66 89 72 87]\n",
      " [82  6 32 16 56  6 83 62 64 11]\n",
      " [58 27 49 66 63 93 63 17 33 95]]\n"
     ]
    }
   ],
   "source": [
    "print(samples)"
   ]
  },
  {
   "cell_type": "code",
   "execution_count": 13,
   "metadata": {
    "ExecuteTime": {
     "end_time": "2019-03-17T11:32:20.840220Z",
     "start_time": "2019-03-17T11:32:20.657709Z"
    }
   },
   "outputs": [
    {
     "data": {
      "image/png": "[encoded data removed]",
      "text/plain": [
       "<Figure size 432x288 with 1 Axes>"
      ]
     },
     "metadata": {
      "needs_background": "light"
     },
     "output_type": "display_data"
    }
   ],
   "source": [
    "# построим гистограмму распредления суммы случайных величин:\n",
    "plt.hist(np.array([np.sum(x) for x in samples]))\n",
    "plt.show()"
   ]
  },
  {
   "cell_type": "code",
   "execution_count": 14,
   "metadata": {
    "ExecuteTime": {
     "end_time": "2019-03-17T11:32:20.857175Z",
     "start_time": "2019-03-17T11:32:20.841218Z"
    }
   },
   "outputs": [],
   "source": [
    "# увеличим число n выборок m случайных величин\n",
    "n = 1000\n",
    "m = 10\n",
    "samples = np.array([np.random.randint(0, 100, m) for _ in range(n)])"
   ]
  },
  {
   "cell_type": "code",
   "execution_count": 15,
   "metadata": {
    "ExecuteTime": {
     "end_time": "2019-03-17T11:32:21.119474Z",
     "start_time": "2019-03-17T11:32:20.859170Z"
    }
   },
   "outputs": [
    {
     "data": {
      "image/png": "[encoded data removed]",
      "text/plain": [
       "<Figure size 432x288 with 1 Axes>"
      ]
     },
     "metadata": {
      "needs_background": "light"
     },
     "output_type": "display_data"
    }
   ],
   "source": [
    "# построим гистограмму распредления суммы случайных величин:\n",
    "plt.hist(np.array([np.sum(x) for x in samples]))\n",
    "plt.show()"
   ]
  },
  {
   "cell_type": "code",
   "execution_count": 16,
   "metadata": {
    "ExecuteTime": {
     "end_time": "2019-03-17T11:32:21.125458Z",
     "start_time": "2019-03-17T11:32:21.121469Z"
    }
   },
   "outputs": [],
   "source": [
    "# при увеличении кол-ва выборок из m случайных величин,\n",
    "# распределение суммы данных величин имеет вид близкий к нормальному распределению\n",
    "# это следует из ЦПТ:\n",
    "# Центра́льные преде́льные теоре́мы (Ц. П. Т.) — класс теорем в теории вероятностей, утверждающих,\n",
    "# что сумма достаточно большого количества слабо зависимых случайных величин,\n",
    "# имеющих примерно одинаковые масштабы (ни одно из слагаемых не доминирует,\n",
    "# не вносит в сумму определяющего вклада), имеет распределение, близкое к нормальному."
   ]
  },
  {
   "cell_type": "markdown",
   "metadata": {},
   "source": [
    "#### 3.\n",
    "1) Дополните код Монте-Карло последовательности независимых испытаний расчетом соответствующих вероятностей (через биномиальное распределение) и сравните результаты."
   ]
  },
  {
   "cell_type": "code",
   "execution_count": 17,
   "metadata": {
    "ExecuteTime": {
     "end_time": "2019-03-17T11:32:21.137426Z",
     "start_time": "2019-03-17T11:32:21.126455Z"
    }
   },
   "outputs": [],
   "source": [
    "def Bernoulli(n, k):\n",
    "    C = np.math.factorial(n) / (np.math.factorial(k) * np.math.factorial(n - k))\n",
    "    p = 1 / 2\n",
    "    q = 1 - p\n",
    "    return C * np.power(p, k) * np.power(q, n - k)"
   ]
  },
  {
   "cell_type": "code",
   "execution_count": 18,
   "metadata": {
    "ExecuteTime": {
     "end_time": "2019-03-17T11:32:21.254061Z",
     "start_time": "2019-03-17T11:32:21.143410Z"
    }
   },
   "outputs": [
    {
     "name": "stdout",
     "output_type": "stream",
     "text": [
      "Monte Carlo: 0.3737,  Bernoulli: 0.375\n"
     ]
    }
   ],
   "source": [
    "k, n = 0, 100000\n",
    "a = np.random.randint(0, 2, n)\n",
    "b = np.random.randint(0, 2, n)\n",
    "c = np.random.randint(0, 2, n)\n",
    "d = np.random.randint(0, 2, n)\n",
    "x = a + b + c + d\n",
    "for i in range(0, n):\n",
    "    if x[i] == 2:\n",
    "        k = k + 1\n",
    "# print(a, b, c, d)\n",
    "# print(x)\n",
    "# print(k, n, k/n)\n",
    "print(f'Monte Carlo: {np.round(k / n, 4)},  Bernoulli: {np.round(Bernoulli(4, 2), 4)}')"
   ]
  },
  {
   "cell_type": "markdown",
   "metadata": {},
   "source": [
    "2) Повторите расчеты, взяв другие значения n и k."
   ]
  },
  {
   "cell_type": "code",
   "execution_count": 19,
   "metadata": {
    "ExecuteTime": {
     "end_time": "2019-03-17T11:32:21.315872Z",
     "start_time": "2019-03-17T11:32:21.256032Z"
    }
   },
   "outputs": [
    {
     "name": "stdout",
     "output_type": "stream",
     "text": [
      "Monte Carlo: 0.3128,  Bernoulli: 0.3125\n"
     ]
    }
   ],
   "source": [
    "k, n = 0, 100000\n",
    "a = np.random.randint(0, 2, n)\n",
    "b = np.random.randint(0, 2, n)\n",
    "c = np.random.randint(0, 2, n)\n",
    "d = np.random.randint(0, 2, n)\n",
    "e = np.random.randint(0, 2, n)\n",
    "f = np.random.randint(0, 2, n)\n",
    "x = a + b + c + d + e + f\n",
    "for i in range(0, n):\n",
    "    if x[i] == 3:\n",
    "        k = k + 1\n",
    "# print(a, b, c, d)\n",
    "# print(x)\n",
    "# print(k, n, k/n)\n",
    "print(f'Monte Carlo: {np.round(k / n, 4)},  Bernoulli: {np.round(Bernoulli(6, 3), 4)}')"
   ]
  },
  {
   "cell_type": "markdown",
   "metadata": {},
   "source": [
    "#### 4. Повторите расчеты, взяв другие значения n и k."
   ]
  },
  {
   "cell_type": "code",
   "execution_count": 20,
   "metadata": {
    "ExecuteTime": {
     "end_time": "2019-03-17T11:32:21.376222Z",
     "start_time": "2019-03-17T11:32:21.316869Z"
    }
   },
   "outputs": [
    {
     "name": "stdout",
     "output_type": "stream",
     "text": [
      "Monte Carlo: 0.11,  Bernoulli: 0.1094\n"
     ]
    }
   ],
   "source": [
    "k, n = 0, 100000\n",
    "a = np.random.randint(0, 2, n)\n",
    "b = np.random.randint(0, 2, n)\n",
    "c = np.random.randint(0, 2, n)\n",
    "d = np.random.randint(0, 2, n)\n",
    "e = np.random.randint(0, 2, n)\n",
    "f = np.random.randint(0, 2, n)\n",
    "g = np.random.randint(0, 2, n)\n",
    "h = np.random.randint(0, 2, n)\n",
    "x = a + b + c + d + e + f + g + h\n",
    "for i in range(0, n):\n",
    "    if x[i] == 6:\n",
    "        k = k + 1\n",
    "# print(a, b, c, d)\n",
    "# print(x)\n",
    "# print(k, n, k/n)\n",
    "print(f'Monte Carlo: {np.round(k / n, 4)},  Bernoulli: {np.round(Bernoulli(8, 6), 4)}')"
   ]
  },
  {
   "cell_type": "markdown",
   "metadata": {},
   "source": [
    "#### 5. Дополните код расчетом коэффициента корреляции x и y по формуле"
   ]
  },
  {
   "cell_type": "code",
   "execution_count": 21,
   "metadata": {
    "ExecuteTime": {
     "end_time": "2019-03-17T11:32:21.386192Z",
     "start_time": "2019-03-17T11:32:21.378214Z"
    }
   },
   "outputs": [],
   "source": [
    "import matplotlib.pyplot as plt\n",
    "%matplotlib inline"
   ]
  },
  {
   "cell_type": "code",
   "execution_count": 22,
   "metadata": {
    "ExecuteTime": {
     "end_time": "2019-03-17T11:32:21.398160Z",
     "start_time": "2019-03-17T11:32:21.387190Z"
    }
   },
   "outputs": [],
   "source": [
    "# Pearson correlation coefficient:\n",
    "def R(x, y):\n",
    "    a = np.sum((x - np.mean(x))*(y - np.mean(y)))\n",
    "    b = np.sqrt(np.sum(np.power(x - np.mean(x), 2))*np.sum(np.power(y - np.mean(y), 2)))\n",
    "    return a / b"
   ]
  },
  {
   "cell_type": "code",
   "execution_count": 23,
   "metadata": {
    "ExecuteTime": {
     "end_time": "2019-03-17T11:32:21.611611Z",
     "start_time": "2019-03-17T11:32:21.399157Z"
    }
   },
   "outputs": [
    {
     "name": "stdout",
     "output_type": "stream",
     "text": [
      "0.7409442475097716 0.13587652352812563\n",
      "0.7409442475097714 0.13587652352812563\n"
     ]
    },
    {
     "data": {
      "image/png": "[encoded data removed]",
      "text/plain": [
       "<Figure size 432x288 with 1 Axes>"
      ]
     },
     "metadata": {
      "needs_background": "light"
     },
     "output_type": "display_data"
    },
    {
     "name": "stdout",
     "output_type": "stream",
     "text": [
      "R: 0.9231\n"
     ]
    }
   ],
   "source": [
    "n = 100\n",
    "r = 0.7\n",
    "x = np.random.rand(n)\n",
    "y = r*x + (1 - r)*np.random.rand(n)\n",
    "plt.plot(x, y, 'o')\n",
    "plt.xlabel('x')\n",
    "plt.ylabel('y')\n",
    "plt.grid(True)\n",
    "\n",
    "a = (np.sum(x)*np.sum(y) - n*np.sum(x*y)) / (np.sum(x)*np.sum(x) - n*np.sum(x*x))\n",
    "b = (np.sum(y) - a*np.sum(x)) / n\n",
    "\n",
    "A = np.vstack([x, np.ones(len(x))]).T\n",
    "a1, b1 = np.linalg.lstsq(A, y, rcond=-1)[0]\n",
    "print(a, b)\n",
    "print(a1, b1)\n",
    "plt.plot([0, 1], [b, a + b])\n",
    "plt.show()\n",
    "print(f'R: {np.round(R(x, y), 4)}')"
   ]
  },
  {
   "cell_type": "code",
   "execution_count": null,
   "metadata": {},
   "outputs": [],
   "source": []
  }
 ],
 "metadata": {
  "kernelspec": {
   "display_name": "Python 3",
   "language": "python",
   "name": "python3"
  },
  "language_info": {
   "codemirror_mode": {
    "name": "ipython",
    "version": 3
   },
   "file_extension": ".py",
   "mimetype": "text/x-python",
   "name": "python",
   "nbconvert_exporter": "python",
   "pygments_lexer": "ipython3",
   "version": "3.7.1"
  }
 },
 "nbformat": 4,
 "nbformat_minor": 2
}
